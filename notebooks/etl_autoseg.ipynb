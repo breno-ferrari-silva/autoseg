{
 "cells": [
  {
   "cell_type": "code",
   "execution_count": 1,
   "metadata": {},
   "outputs": [],
   "source": [
    "%load_ext autoreload\n",
    "%autoreload 2"
   ]
  },
  {
   "cell_type": "code",
   "execution_count": 3,
   "metadata": {},
   "outputs": [],
   "source": [
    "import os\n",
    "import warnings\n",
    "import pandas as pd\n",
    "from pathlib import Path\n",
    "\n",
    "from autoseg import utils\n",
    "from autoseg import dados\n",
    "\n",
    "warnings.filterwarnings('ignore')\n",
    "pd.set_option('display.max_columns', None)\n",
    "pd.set_option('display.max_rows', 100)"
   ]
  },
  {
   "cell_type": "code",
   "execution_count": 4,
   "metadata": {},
   "outputs": [],
   "source": [
    "path_zip = Path('..') / 'data' / 'raw' / 'autoseg'\n",
    "path_interim = Path('..') / 'data' / 'interim' / 'autoseg'\n",
    "path_save = Path('..') / 'data' / 'processed' / 'autoseg'"
   ]
  },
  {
   "cell_type": "code",
   "execution_count": 5,
   "metadata": {},
   "outputs": [],
   "source": [
    "# Diretório contendo todos os arquivos .zip\n",
    "arquivos_zip = os.listdir(path_zip)"
   ]
  },
  {
   "cell_type": "code",
   "execution_count": null,
   "metadata": {},
   "outputs": [],
   "source": [
    "for a in arquivos_zip:\n",
    "    print(a)\n",
    "    path_a = path_zip / a\n",
    "    utils.descompactar_zip(path_a, path_interim) # Descompactar o .zip da Autoseg\n",
    "    dados.processar_arquivo_bruto_autoseg() # Processando o arquivo \"arq_casco3_comp\"\n",
    "    utils.limpar_pasta(path=path_interim) # Limpando o diretório"
   ]
  }
 ],
 "metadata": {
  "kernelspec": {
   "display_name": "Python 3",
   "language": "python",
   "name": "python3"
  },
  "language_info": {
   "codemirror_mode": {
    "name": "ipython",
    "version": 3
   },
   "file_extension": ".py",
   "mimetype": "text/x-python",
   "name": "python",
   "nbconvert_exporter": "python",
   "pygments_lexer": "ipython3",
   "version": "3.12.1"
  }
 },
 "nbformat": 4,
 "nbformat_minor": 2
}
