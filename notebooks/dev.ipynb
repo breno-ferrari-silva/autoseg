{
 "cells": [
  {
   "cell_type": "code",
   "execution_count": 1,
   "metadata": {},
   "outputs": [],
   "source": [
    "import os\n",
    "import pyodbc\n",
    "import pandas as pd\n",
    "from pathlib import Path\n",
    "from autoseg import utils"
   ]
  },
  {
   "cell_type": "code",
   "execution_count": 2,
   "metadata": {},
   "outputs": [],
   "source": [
    "path_zip = Path('..') / 'data' / 'raw' / 'autoseg'\n",
    "path_ext = Path('..') / 'data' / 'processed' / 'autoseg'"
   ]
  },
  {
   "cell_type": "code",
   "execution_count": 3,
   "metadata": {},
   "outputs": [],
   "source": [
    "# Diretório contendo todos os arquivos .zip\n",
    "arquivos_zip = os.listdir(path_zip)"
   ]
  },
  {
   "cell_type": "code",
   "execution_count": null,
   "metadata": {},
   "outputs": [],
   "source": [
    "for a in arquivos_zip:\n",
    "    dir = path_zip / a\n",
    "    utils.descompacta_zip(dir, path_ext)"
   ]
  },
  {
   "cell_type": "markdown",
   "metadata": {},
   "source": [
    "- Preciso incluir um código que dê sequência ao processamento do arquivo após descompactá-lo.\n",
    "- Após todo o processamento, precisso limpar o diretório para o próximo .zip."
   ]
  },
  {
   "cell_type": "code",
   "execution_count": 4,
   "metadata": {},
   "outputs": [
    {
     "name": "stderr",
     "output_type": "stream",
     "text": [
      "C:\\Users\\breno\\AppData\\Local\\Temp\\ipykernel_102020\\2149460261.py:1: DtypeWarning: Columns (1,3,4) have mixed types. Specify dtype option on import or set low_memory=False.\n",
      "  df = pd.read_csv(\n"
     ]
    },
    {
     "data": {
      "text/html": [
       "<div>\n",
       "<style scoped>\n",
       "    .dataframe tbody tr th:only-of-type {\n",
       "        vertical-align: middle;\n",
       "    }\n",
       "\n",
       "    .dataframe tbody tr th {\n",
       "        vertical-align: top;\n",
       "    }\n",
       "\n",
       "    .dataframe thead th {\n",
       "        text-align: right;\n",
       "    }\n",
       "</style>\n",
       "<table border=\"1\" class=\"dataframe\">\n",
       "  <thead>\n",
       "    <tr style=\"text-align: right;\">\n",
       "      <th></th>\n",
       "      <th>COD_TARIF</th>\n",
       "      <th>REGIAO</th>\n",
       "      <th>COD_MODELO</th>\n",
       "      <th>ANO_MODELO</th>\n",
       "      <th>CEP</th>\n",
       "      <th>EXPOSICAO</th>\n",
       "      <th>PREMIO</th>\n",
       "      <th>FREQ_SIN1</th>\n",
       "      <th>INDENIZ1</th>\n",
       "      <th>FREQ_SIN23</th>\n",
       "      <th>INDENIZ23</th>\n",
       "      <th>FREQ_SIN4</th>\n",
       "      <th>INDENIZ4</th>\n",
       "      <th>FREQ_SIN9</th>\n",
       "      <th>INDENIZ9</th>\n",
       "      <th>ENVIO</th>\n",
       "    </tr>\n",
       "  </thead>\n",
       "  <tbody>\n",
       "    <tr>\n",
       "      <th>0</th>\n",
       "      <td>2</td>\n",
       "      <td>39</td>\n",
       "      <td>005228-0</td>\n",
       "      <td>2012</td>\n",
       "      <td>74255</td>\n",
       "      <td>0,246575340628624</td>\n",
       "      <td>220,46321105957</td>\n",
       "      <td>0</td>\n",
       "      <td>0</td>\n",
       "      <td>0</td>\n",
       "      <td>0</td>\n",
       "      <td>0</td>\n",
       "      <td>0</td>\n",
       "      <td>0</td>\n",
       "      <td>0</td>\n",
       "      <td>2012A</td>\n",
       "    </tr>\n",
       "    <tr>\n",
       "      <th>1</th>\n",
       "      <td>2</td>\n",
       "      <td>39</td>\n",
       "      <td>005228-0</td>\n",
       "      <td>2012</td>\n",
       "      <td>74265</td>\n",
       "      <td>0,246575340628624</td>\n",
       "      <td>300,899169921875</td>\n",
       "      <td>0</td>\n",
       "      <td>0</td>\n",
       "      <td>0</td>\n",
       "      <td>0</td>\n",
       "      <td>0</td>\n",
       "      <td>0</td>\n",
       "      <td>0</td>\n",
       "      <td>0</td>\n",
       "      <td>2012A</td>\n",
       "    </tr>\n",
       "    <tr>\n",
       "      <th>2</th>\n",
       "      <td>2</td>\n",
       "      <td>39</td>\n",
       "      <td>005228-0</td>\n",
       "      <td>2012</td>\n",
       "      <td>74303</td>\n",
       "      <td>0,219178080558777</td>\n",
       "      <td>254,386917114258</td>\n",
       "      <td>0</td>\n",
       "      <td>0</td>\n",
       "      <td>0</td>\n",
       "      <td>0</td>\n",
       "      <td>0</td>\n",
       "      <td>0</td>\n",
       "      <td>0</td>\n",
       "      <td>0</td>\n",
       "      <td>2012A</td>\n",
       "    </tr>\n",
       "    <tr>\n",
       "      <th>3</th>\n",
       "      <td>2</td>\n",
       "      <td>39</td>\n",
       "      <td>005228-0</td>\n",
       "      <td>2012</td>\n",
       "      <td>74330</td>\n",
       "      <td>0,789041072130203</td>\n",
       "      <td>894,801116943359</td>\n",
       "      <td>0</td>\n",
       "      <td>0</td>\n",
       "      <td>0</td>\n",
       "      <td>0</td>\n",
       "      <td>0</td>\n",
       "      <td>0</td>\n",
       "      <td>0</td>\n",
       "      <td>0</td>\n",
       "      <td>2012A</td>\n",
       "    </tr>\n",
       "    <tr>\n",
       "      <th>4</th>\n",
       "      <td>2</td>\n",
       "      <td>39</td>\n",
       "      <td>005228-0</td>\n",
       "      <td>2012</td>\n",
       "      <td>74333</td>\n",
       "      <td>0,0821917802095413</td>\n",
       "      <td>85,0136260986328</td>\n",
       "      <td>0</td>\n",
       "      <td>0</td>\n",
       "      <td>0</td>\n",
       "      <td>0</td>\n",
       "      <td>0</td>\n",
       "      <td>0</td>\n",
       "      <td>0</td>\n",
       "      <td>0</td>\n",
       "      <td>2012A</td>\n",
       "    </tr>\n",
       "  </tbody>\n",
       "</table>\n",
       "</div>"
      ],
      "text/plain": [
       "   COD_TARIF REGIAO COD_MODELO ANO_MODELO    CEP           EXPOSICAO  \\\n",
       "0          2     39   005228-0       2012  74255   0,246575340628624   \n",
       "1          2     39   005228-0       2012  74265   0,246575340628624   \n",
       "2          2     39   005228-0       2012  74303   0,219178080558777   \n",
       "3          2     39   005228-0       2012  74330   0,789041072130203   \n",
       "4          2     39   005228-0       2012  74333  0,0821917802095413   \n",
       "\n",
       "             PREMIO  FREQ_SIN1  INDENIZ1  FREQ_SIN23  INDENIZ23  FREQ_SIN4  \\\n",
       "0   220,46321105957          0         0           0          0          0   \n",
       "1  300,899169921875          0         0           0          0          0   \n",
       "2  254,386917114258          0         0           0          0          0   \n",
       "3  894,801116943359          0         0           0          0          0   \n",
       "4  85,0136260986328          0         0           0          0          0   \n",
       "\n",
       "   INDENIZ4  FREQ_SIN9  INDENIZ9  ENVIO  \n",
       "0         0          0         0  2012A  \n",
       "1         0          0         0  2012A  \n",
       "2         0          0         0  2012A  \n",
       "3         0          0         0  2012A  \n",
       "4         0          0         0  2012A  "
      ]
     },
     "execution_count": 4,
     "metadata": {},
     "output_type": "execute_result"
    }
   ],
   "source": [
    "df = pd.read_csv(\n",
    "    path_ext / 'arq_casco3_comp.csv',\n",
    "    sep=';'\n",
    ")\n",
    "\n",
    "df.head()"
   ]
  },
  {
   "cell_type": "code",
   "execution_count": 7,
   "metadata": {},
   "outputs": [],
   "source": [
    "arquivos_remover = os.listdir(path_ext)"
   ]
  },
  {
   "cell_type": "code",
   "execution_count": 5,
   "metadata": {},
   "outputs": [
    {
     "ename": "AttributeError",
     "evalue": "module 'os' has no attribute 'clear'",
     "output_type": "error",
     "traceback": [
      "\u001b[1;31m---------------------------------------------------------------------------\u001b[0m",
      "\u001b[1;31mAttributeError\u001b[0m                            Traceback (most recent call last)",
      "Cell \u001b[1;32mIn[5], line 1\u001b[0m\n\u001b[1;32m----> 1\u001b[0m \u001b[43mos\u001b[49m\u001b[38;5;241;43m.\u001b[39;49m\u001b[43mclear\u001b[49m(path_ext)\n",
      "\u001b[1;31mAttributeError\u001b[0m: module 'os' has no attribute 'clear'"
     ]
    }
   ],
   "source": [
    "os.remove(path_ext)"
   ]
  },
  {
   "cell_type": "code",
   "execution_count": null,
   "metadata": {},
   "outputs": [],
   "source": []
  }
 ],
 "metadata": {
  "kernelspec": {
   "display_name": "Python 3",
   "language": "python",
   "name": "python3"
  },
  "language_info": {
   "codemirror_mode": {
    "name": "ipython",
    "version": 3
   },
   "file_extension": ".py",
   "mimetype": "text/x-python",
   "name": "python",
   "nbconvert_exporter": "python",
   "pygments_lexer": "ipython3",
   "version": "3.12.1"
  }
 },
 "nbformat": 4,
 "nbformat_minor": 2
}
